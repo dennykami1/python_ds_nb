{
 "cells": [
  {
   "cell_type": "markdown",
   "id": "a89c7236",
   "metadata": {},
   "source": [
    "# Kami Denny"
   ]
  },
  {
   "cell_type": "markdown",
   "id": "bf6f3157",
   "metadata": {},
   "source": [
    "### 10. Add a Code cell and write Python that uses loops to draw the following pattern:\n",
    "\n",
    "```\n",
    "*      *\n",
    "**    **\n",
    "***  ***\n",
    "********\n",
    "```"
   ]
  },
  {
   "cell_type": "code",
   "execution_count": 36,
   "id": "c01fc68d",
   "metadata": {},
   "outputs": [
    {
     "name": "stdout",
     "output_type": "stream",
     "text": [
      "*      *\n",
      "**    **\n",
      "***  ***\n",
      "********\n"
     ]
    }
   ],
   "source": [
    "#make pattern of stars\n",
    "rows = 4\n",
    "star = '*'\n",
    "\n",
    "# Loop to print the star pattern\n",
    "for s in range(0,rows):\n",
    "    stars1 = (star * (s + 1))\n",
    "    spaces = ' ' * (rows - s - 1)  # Calculate spaces for right alignment\n",
    "    print(stars1 + spaces + spaces + stars1)\n"
   ]
  },
  {
   "cell_type": "markdown",
   "id": "f9ca0e18",
   "metadata": {},
   "source": [
    "### Export to HTML"
   ]
  },
  {
   "cell_type": "code",
   "execution_count": 39,
   "id": "34ba8f93",
   "metadata": {},
   "outputs": [
    {
     "name": "stderr",
     "output_type": "stream",
     "text": [
      "[NbConvertApp] Converting notebook S568024.ipynb to html\n",
      "[NbConvertApp] Writing 273747 bytes to S568024.html\n"
     ]
    }
   ],
   "source": [
    "!jupyter nbconvert --to html S568024.ipynb"
   ]
  }
 ],
 "metadata": {
  "kernelspec": {
   "display_name": "Python 3",
   "language": "python",
   "name": "python3"
  },
  "language_info": {
   "codemirror_mode": {
    "name": "ipython",
    "version": 3
   },
   "file_extension": ".py",
   "mimetype": "text/x-python",
   "name": "python",
   "nbconvert_exporter": "python",
   "pygments_lexer": "ipython3",
   "version": "3.13.1"
  }
 },
 "nbformat": 4,
 "nbformat_minor": 5
}
