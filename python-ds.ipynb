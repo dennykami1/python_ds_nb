{
 "cells": [
  {
   "cell_type": "markdown",
   "metadata": {},
   "source": [
    "# Web Mining and Applied NLP (44-620)\n",
    "\n",
    "## Python Notebooks, Basics, and Data Structures\n",
    "\n",
    "### Student Name: Kami Denny\n",
    "\n",
    "Perform the tasks described in the Markdown cells below.  When you have completed the assignment make sure your code cells have all been run (and have output beneath them) and ensure you have committed and pushed ALL of your changes to your assignment repository.\n",
    "\n",
    "Every question that requires you to write code will have a code cell underneath it; you may either write your entire solution in that cell or write it in a python file (`.py`), then import and run the appropriate code to answer the question.\n",
    "\n",
    "Do not use external modules (`math`, etc) for this assignment unless you are explicitly instructed to, though you may use built in python functions (`min`, `max`, etc) as you wish."
   ]
  },
  {
   "cell_type": "markdown",
   "metadata": {},
   "source": [
    "### 1. Modify the Markdown cell above to put your name after \"Student Name:\"; you will be expected to do this in all assignments presented in this format for this class."
   ]
  },
  {
   "cell_type": "markdown",
   "metadata": {},
   "source": [
    "### 2. Write code that divides any two numbers, stores the result in a variable, and prints the result with an appropriate label."
   ]
  },
  {
   "cell_type": "code",
   "execution_count": 2,
   "metadata": {},
   "outputs": [
    {
     "name": "stdout",
     "output_type": "stream",
     "text": [
      "34 divided by 56 is 0.6071428571428571\n"
     ]
    }
   ],
   "source": [
    "value1 = 34\n",
    "value2 = 56\n",
    "\n",
    "# Divide value1 by value2\n",
    "result = value1 / value2\n",
    "\n",
    "# Print the result\n",
    "print(f\"{value1} divided by {value2} is {result}\")"
   ]
  },
  {
   "cell_type": "markdown",
   "metadata": {},
   "source": [
    "### 3. Using loops (and potentially conditionals), write Python code that prints the factorial of each integer from 1 through 10 (which you can store in a variable if you want). The factorial of an integer is the product of all of the integers of 1 through the number. Print the result with an appropriate label."
   ]
  },
  {
   "cell_type": "code",
   "execution_count": 20,
   "metadata": {},
   "outputs": [
    {
     "name": "stdout",
     "output_type": "stream",
     "text": [
      "List2 for 1 is [1]\n",
      "For 1 the factorial is 1\n",
      "-------------------\n",
      "List2 for 2 is [1, 2]\n",
      "For 2 the factorial is 2\n",
      "-------------------\n",
      "List2 for 3 is [1, 2, 3]\n",
      "For 3 the factorial is 6\n",
      "-------------------\n",
      "List2 for 4 is [1, 2, 3, 4]\n",
      "For 4 the factorial is 24\n",
      "-------------------\n",
      "List2 for 5 is [1, 2, 3, 4, 5]\n",
      "For 5 the factorial is 120\n",
      "-------------------\n",
      "List2 for 6 is [1, 2, 3, 4, 5, 6]\n",
      "For 6 the factorial is 720\n",
      "-------------------\n",
      "List2 for 7 is [1, 2, 3, 4, 5, 6, 7]\n",
      "For 7 the factorial is 5040\n",
      "-------------------\n",
      "List2 for 8 is [1, 2, 3, 4, 5, 6, 7, 8]\n",
      "For 8 the factorial is 40320\n",
      "-------------------\n",
      "List2 for 9 is [1, 2, 3, 4, 5, 6, 7, 8, 9]\n",
      "For 9 the factorial is 362880\n",
      "-------------------\n",
      "List2 for 10 is [1, 2, 3, 4, 5, 6, 7, 8, 9, 10]\n",
      "For 10 the factorial is 3628800\n",
      "-------------------\n"
     ]
    }
   ],
   "source": [
    "list1 = [1,2,3,4,5,6,7,8,9,10]\n",
    "\n",
    "for i in list1:\n",
    "    list2 = list(range(1, i+1))\n",
    "    print(f\"List2 for {i} is {list2}\")\n",
    "    \n",
    "    # Calculate the factorial of i using list2\n",
    "    factorial = 1\n",
    "    for j in list2:\n",
    "        factorial *= j\n",
    "        \n",
    "    print(f\"For {i} the factorial is {factorial}\")\n",
    "    print(\"-------------------\")\n",
    "    \n",
    "   \n"
   ]
  },
  {
   "cell_type": "markdown",
   "metadata": {},
   "source": [
    "### 4. Write a python function that takes a single parameter and calculates and returns the average (mean) of the values in the parameter (which you may assume is iterable).  Show that your function works by printing the result of calling the function on the list in the cell below."
   ]
  },
  {
   "cell_type": "code",
   "execution_count": 41,
   "metadata": {},
   "outputs": [
    {
     "name": "stdout",
     "output_type": "stream",
     "text": [
      "The mean of the list [1, -1, 2, -2, 3, -3, 4, -4] is 0.0\n"
     ]
    }
   ],
   "source": [
    "testlist = [1,-1,2,-2,3,-3,4,-4]\n",
    "\n",
    "def mean_function(testlist):\n",
    "    sum_of_list = sum(testlist)\n",
    "    length_of_list = len(testlist)\n",
    "    mean = sum_of_list / length_of_list\n",
    "    return mean\n",
    "\n",
    "print(f\"The mean of the list {testlist} is {mean_function(testlist)}\")   \n",
    "\n"
   ]
  },
  {
   "cell_type": "markdown",
   "metadata": {},
   "source": [
    "### 5. Using your mean function above, write a function that calculates the variance of the list of numbers (see https://en.wikipedia.org/wiki/Variance for more information on the formula). In short:\n",
    "* subtract the mean of the elements in the list from every element in the list; store these values in a new list\n",
    "* square every element in the new list and sum the elements together\n",
    "* divide the resulting number by N (where N is the length of the original list)\n",
    "\n",
    "Show the result of calling your function in the lists in the code cell. You must use one or more list comprehensions or map/filter in your code.\n"
   ]
  },
  {
   "cell_type": "code",
   "execution_count": 43,
   "metadata": {},
   "outputs": [
    {
     "name": "stdout",
     "output_type": "stream",
     "text": [
      "The variance of list1 is 1.13973309\n",
      "The variance of list2 is 0.9257232841\n"
     ]
    }
   ],
   "source": [
    "list1 = [ 5.670e-1, -1.480e+0, -5.570e-1, -1.470e+0, 7.340e-1, 1.050e+0, 4.480e-1, 2.570e-1, -1.970e+0, -1.460e+0]\n",
    "list2 = [-1.780e+0, 2.640e-1, 1.160e+0, 9.080e-1, 1.780e+0, 1.080e+0, 1.050e+0, -4.630e-2, 1.520e+0, 5.350e-1]\n",
    "# the variances of both lists should be relatively close to 1 (off by less than .15)\n",
    "\n",
    "def variance_function(listvar):\n",
    "    for i in listvar:\n",
    "        #subtract the mean from each element\n",
    "        newlist = [i - mean_function(listvar) for i in listvar]\n",
    "        #square the result\n",
    "        newlist = [i*i for i in newlist]\n",
    "        #sum the squared results\n",
    "        sum_of_newlist = sum(newlist)\n",
    "        #divide by the number of elements\n",
    "        variance = sum_of_newlist / len(listvar)\n",
    "        return variance\n",
    "\n",
    "print(f\"The variance of list1 is {variance_function(list1)}\")\n",
    "print(f\"The variance of list2 is {variance_function(list2)}\")\n",
    "\n"
   ]
  },
  {
   "cell_type": "markdown",
   "metadata": {},
   "source": [
    "### 6. Create a list with at least 15 elements in it. Use list slicing to print the following:\n",
    "* The first 5 elements of the list\n",
    "* The last 5 elements of the list\n",
    "* The list reversed (hint, show the entire list with a stride of -1)\n",
    "* Every second element in the list\n",
    "* Every third element in the list (stride of 3)"
   ]
  },
  {
   "cell_type": "code",
   "execution_count": 27,
   "metadata": {},
   "outputs": [
    {
     "name": "stdout",
     "output_type": "stream",
     "text": [
      "The first 5 states in the list are:\n",
      "['Texas', 'California', 'Florida', 'New York', 'Illinois']\n",
      "The last 5 states in the list are:\n",
      "['Arizona', 'Washington', 'Massachusetts', 'Tennessee', 'Indiana']\n",
      "The list reversed is:\n",
      "['Indiana', 'Tennessee', 'Massachusetts', 'Washington', 'Arizona', 'Pennsylvania', 'Michigan', 'North Carolina', 'Ohio', 'Georgia', 'Illinois', 'New York', 'Florida', 'California', 'Texas']\n",
      "every second element in the list is:\n",
      "['Texas', 'Florida', 'Illinois', 'Ohio', 'Michigan', 'Arizona', 'Massachusetts', 'Indiana']\n",
      "every third element in the list is:\n",
      "['Texas', 'New York', 'Ohio', 'Pennsylvania', 'Massachusetts']\n"
     ]
    }
   ],
   "source": [
    "states = [\"Texas\", \"California\", \"Florida\", \"New York\", \"Illinois\",\"Georgia\", \"Ohio\", \"North Carolina\", \"Michigan\", \"Pennsylvania\",\"Arizona\", \"Washington\", \"Massachusetts\", \"Tennessee\", \"Indiana\"]\n",
    "\n",
    "print(\"The first 5 states in the list are:\")\n",
    "print(states[:5])\n",
    "\n",
    "print(\"The last 5 states in the list are:\")\n",
    "print(states[-5:])\n",
    "\n",
    "print(\"The list reversed is:\")\n",
    "print(states[::-1])\n",
    "\n",
    "print(\"every second element in the list is:\")\n",
    "print(states[::2])\n",
    "\n",
    "print(\"every third element in the list is:\")\n",
    "print(states[::3])\n",
    "\n",
    "\n"
   ]
  },
  {
   "cell_type": "markdown",
   "metadata": {},
   "source": [
    "### 7. Build a dictionary that contains the following information about this class (with appropriate names as keys):\n",
    "* The name\n",
    "* The course number\n",
    "* The semester/term in which you are taking this course\n",
    "* The number of credit hours this course counts for\n",
    "* A list of the course learning objectives\n",
    "\n",
    "The majority of this information can be found in the syllabus. Print the dictionary."
   ]
  },
  {
   "cell_type": "code",
   "execution_count": 58,
   "metadata": {},
   "outputs": [
    {
     "name": "stdout",
     "output_type": "stream",
     "text": [
      "{'name': 'Web Mining and Applied Natural Language Processing', 'course_number': '44620', 'term': 'Summer 2024 - Block 2', 'credits': 3, 'learning_objectives': ['Manage Python libraries and packages ', 'Interact with Hosted Version Control Systems (e.g. Git and GitHub)', 'Programmatically obtain and transform data from web-based APIs and HTML pages into a usable form', 'Describe the steps in a basic Natural Language Processing Pipeline', 'Use preexisting tools and software libraries to perform some Natural Language Processing, such as sentiment analysis', 'Explain results and conclusions drawn from the visualized information']}\n"
     ]
    }
   ],
   "source": [
    "course_dic = {'name': 'Web Mining and Applied Natural Language Processing',\n",
    "             'course_number': '44620',\n",
    "             'term': 'Summer 2024 - Block 2',\n",
    "             'credits': 3,\n",
    "             'learning_objectives': ['Manage Python libraries and packages ',\n",
    "                                     'Interact with Hosted Version Control Systems (e.g. Git and GitHub)',\n",
    "                                     'Programmatically obtain and transform data from web-based APIs and HTML pages into a usable form',\n",
    "                                     'Describe the steps in a basic Natural Language Processing Pipeline',\n",
    "                                     'Use preexisting tools and software libraries to perform some Natural Language Processing, such as sentiment analysis',\n",
    "                                     'Explain results and conclusions drawn from the visualized information']\n",
    "\n",
    "            }\n",
    "\n",
    "print(course_dic)"
   ]
  },
  {
   "cell_type": "markdown",
   "metadata": {},
   "source": [
    "### 8.  Given the dictionary defined in the code cell below, print the list of level 3 spells the character has."
   ]
  },
  {
   "cell_type": "code",
   "execution_count": 45,
   "metadata": {},
   "outputs": [
    {
     "name": "stdout",
     "output_type": "stream",
     "text": [
      "Level 3 spells:\n",
      "['Mass Healing Word', 'Nondetection', 'Revivify', 'Feign Death', 'Speak with Dead']\n"
     ]
    }
   ],
   "source": [
    "player_character = {'name': 'Kitab',\n",
    "                   'class': [('Cleric: Knowledge', 7)],\n",
    "                   'spells': {'cantrip': ['Guidance', 'Light', 'Thaumaturgy', 'Toll the Dead', 'Word of Radiance'],\n",
    "                             'level 1': ['Command', 'Detect Magic', 'Healing Word', 'Identify', 'Sleep'],\n",
    "                             'level 2': ['Augury', 'Calm Emotions', 'Command', 'Invisibility', 'Lesser Restoration'],\n",
    "                             'level 3': ['Mass Healing Word', 'Nondetection', 'Revivify', 'Feign Death', 'Speak with Dead'],\n",
    "                             'level 4': ['Banishment', 'Confusion']}\n",
    "                   }\n",
    "\n",
    "#print a list of all level 3 spells\n",
    "print(\"Level 3 spells:\")\n",
    "print(player_character['spells']['level 3'])\n"
   ]
  },
  {
   "cell_type": "markdown",
   "metadata": {},
   "source": [
    "### 9. Write code to determine the number of unique elements in the list below.  You MUST use a set in finding your solution.  Print the number of unique values in the list with an appropriate label."
   ]
  },
  {
   "cell_type": "code",
   "execution_count": 54,
   "metadata": {},
   "outputs": [
    {
     "name": "stdout",
     "output_type": "stream",
     "text": [
      "The number of unique values is: 12\n"
     ]
    }
   ],
   "source": [
    "values = [10, 11, 10, 8, 1, 12, 0, 1, 6, 5, 5, 13, 6, 15, 0, 0, 1, 1, 9, 7]\n",
    "\n",
    "unique_values = set(values)\n",
    "count_unique = len(unique_values)\n",
    "\n",
    "print(\"The number of unique values is:\", count_unique)"
   ]
  },
  {
   "cell_type": "markdown",
   "metadata": {},
   "source": [
    "### 10. Create a new Jupyter Notebook (the name of the notebook should be your S number). Add a Markdown cell that contains your name. Add a Code cell and write Python that uses loops to draw the following pattern:\n",
    "\n",
    "```\n",
    "*      *\n",
    "**    **\n",
    "***  ***\n",
    "********\n",
    "```\n",
    "Make sure to add and submit both the new notebook and the changes to this notebook for this assignment."
   ]
  },
  {
   "cell_type": "markdown",
   "metadata": {},
   "source": [
    "### Export to HTML"
   ]
  },
  {
   "cell_type": "code",
   "execution_count": 60,
   "metadata": {},
   "outputs": [
    {
     "name": "stderr",
     "output_type": "stream",
     "text": [
      "[NbConvertApp] Converting notebook python-ds.ipynb to html\n",
      "[NbConvertApp] Writing 310061 bytes to python-ds.html\n"
     ]
    }
   ],
   "source": [
    "!jupyter nbconvert --to html python-ds.ipynb"
   ]
  }
 ],
 "metadata": {
  "kernelspec": {
   "display_name": "Python 3",
   "language": "python",
   "name": "python3"
  },
  "language_info": {
   "codemirror_mode": {
    "name": "ipython",
    "version": 3
   },
   "file_extension": ".py",
   "mimetype": "text/x-python",
   "name": "python",
   "nbconvert_exporter": "python",
   "pygments_lexer": "ipython3",
   "version": "3.13.1"
  }
 },
 "nbformat": 4,
 "nbformat_minor": 4
}
